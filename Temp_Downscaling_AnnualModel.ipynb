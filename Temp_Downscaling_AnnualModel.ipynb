{
 "cells": [
  {
   "cell_type": "markdown",
   "metadata": {},
   "source": [
    "# Linear Downscaling for Temperature (Annual Model)\n",
    "\n",
    "#### Katrina Wheelan, 3.28.20\n",
    "\n",
    "This notebook uses various atmospheric predictors to predict maximum temperaure. There is an option to add a stochastic component to the linear model.\n",
    "\n",
    "Steps: \n",
    "\n",
    "- Import data\n",
    "- standardize\n",
    "- LASSO or manual selection linear regression using large scale predictors\n",
    "- condition on month of the year\n",
    "- stochastic piece --- Gaussian or Gamma distribution\n",
    "- save predictions"
   ]
  },
  {
   "cell_type": "markdown",
   "metadata": {},
   "source": [
    "### Importing the necessary packages"
   ]
  },
  {
   "cell_type": "code",
   "execution_count": 2,
   "metadata": {},
   "outputs": [],
   "source": [
    "import warnings\n",
    "warnings.filterwarnings('ignore')\n",
    "import xarray as xr\n",
    "import sklearn\n",
    "import pandas as pd\n",
    "import numpy as np\n",
    "from sklearn.linear_model import LogisticRegression, Lasso, LinearRegression\n",
    "from sklearn.model_selection import ShuffleSplit, cross_val_score, GridSearchCV\n",
    "from sklearn.metrics import log_loss\n",
    "import matplotlib.pyplot as plt\n",
    "import os"
   ]
  },
  {
   "cell_type": "markdown",
   "metadata": {},
   "source": [
    "## Input Coordinates"
   ]
  },
  {
   "cell_type": "code",
   "execution_count": 33,
   "metadata": {},
   "outputs": [],
   "source": [
    "#Adjust these if needed; takes a single cell\n",
    "lat = 38.125\n",
    "lon = -101.875"
   ]
  },
  {
   "cell_type": "markdown",
   "metadata": {},
   "source": [
    "## Prepping the Data for analysis\n",
    "\n",
    "Run the code below or skip to the cell with the stars if you want to use pre-prepped data for (36.608, -97.488)"
   ]
  },
  {
   "cell_type": "markdown",
   "metadata": {},
   "source": [
    "### Importing the predictors"
   ]
  },
  {
   "cell_type": "code",
   "execution_count": 3,
   "metadata": {},
   "outputs": [],
   "source": [
    "ROOT = '/glade/p/cisl/risc/rmccrary/DOE_ESD/LargeScale_DCA/ERA-I/mpigrid/' #where the files are saved\n",
    "EXT = '_19790101-20181231_dayavg_mpigrid.nc' #date range at the end of the file\n",
    "SERIES = 'ERAI_NAmerica'\n",
    "\n",
    "#The variables to use\n",
    "surface_predictors = ['mslp', 'uas', 'vas'] #, 'ps']\n",
    "#Each of these predictors is taken at each pressure level below\n",
    "other_predictors = ['Q', 'RH', 'U', 'V', 'Z', 'Vort', 'Div']\n",
    "levels = [500, 700, 850] #pressure levels\n",
    "\n",
    "#Surface predictors\n",
    "for var in surface_predictors:\n",
    "    file = ROOT + var + '_' + SERIES + '_surf' + EXT\n",
    "    if var == 'mslp': predictors = xr.open_dataset(file)[var]\n",
    "    predictors = xr.merge([predictors, xr.open_dataset(file)[var]])\n",
    "\n",
    "#Other predictors (at multiple pressure levels)\n",
    "for var in other_predictors:\n",
    "    for level in levels:\n",
    "        file = ROOT + var + '_' + SERIES + '_p' + str(level) + EXT\n",
    "        predictors = xr.merge([predictors, xr.open_dataset(file).rename({var: var + '_p' + str(level)})])"
   ]
  },
  {
   "cell_type": "markdown",
   "metadata": {},
   "source": [
    "### Standardizing the input variables"
   ]
  },
  {
   "cell_type": "code",
   "execution_count": 4,
   "metadata": {},
   "outputs": [],
   "source": [
    "#convert to pandas dataframe in order to use scikit-learn later\n",
    "\n",
    "def standardize(variable):\n",
    "    \"\"\"Standardizing a variable (converting to z-scores)\n",
    "    Takes as input an Xarray dataset; outputs a standardized Xarray object\"\"\"\n",
    "    return (variable - np.mean(variable)) / np.std(variable)\n",
    "\n",
    "for col in [i for i in predictors.keys()]:\n",
    "    #standardize each predictor\n",
    "    predictors[col] = standardize(predictors[col])"
   ]
  },
  {
   "cell_type": "markdown",
   "metadata": {},
   "source": [
    "### Get observations and training data"
   ]
  },
  {
   "cell_type": "code",
   "execution_count": 101,
   "metadata": {},
   "outputs": [],
   "source": [
    "#import observations\n",
    "obs_file = \"/glade/p/cisl/risc/narccap/obs/gridMET/common/DCA/tmax.gridMET.NAM-22i.SGP.nc\"\n",
    "obs = xr.open_mfdataset(obs_file).sel(time = slice('1979-01-01','2014-12-31'))\n",
    "\n",
    "#getting training data \n",
    "#slicing input data to the date range of obs (through 2014)\n",
    "X_all = predictors.sel(lat = lat, lon = lon, method = 'nearest').sel(time = slice('1980-01-01','2014-12-31'))\n",
    "Y_all = obs.sel(lat = lat, lon = lon, method = 'nearest').sel(time = slice('1980-01-01','2014-12-31'))"
   ]
  },
  {
   "cell_type": "markdown",
   "metadata": {},
   "source": [
    "### Add a column of ones for constants"
   ]
  },
  {
   "cell_type": "code",
   "execution_count": 102,
   "metadata": {},
   "outputs": [],
   "source": [
    "#adding a column of ones for a constant (since the obs aren't normalized they aren't centered around zero)\n",
    "all_preds = [key for key in X_all.keys()] #the names of the predictors\n",
    "X_all['constant'] = 1 + 0*X_all[all_preds[0]] #added the last part so it's dependent on lat, lon, and time\n",
    "if not 'constant' in all_preds: all_preds += ['constant'] #adding \"constant\" to the list of variable names"
   ]
  },
  {
   "cell_type": "markdown",
   "metadata": {},
   "source": [
    "### Separate Training and Testing Data\n",
    "\n",
    "Right now I have even years for training and odd years for testing"
   ]
  },
  {
   "cell_type": "code",
   "execution_count": 103,
   "metadata": {},
   "outputs": [],
   "source": [
    "def evenOdd(ds):\n",
    "    \"\"\"Input: xarray dataset\n",
    "        Output: even and odd year datasets as xarray objects\"\"\"\n",
    "    ds['time-copy'] = ds['time']\n",
    "    #classify years as even or odd\n",
    "    ds['time'] =  pd.DatetimeIndex(ds.time.values).year%2 == 0\n",
    "    even, odd = ds.sel(time = True), ds.sel(time = False)\n",
    "    even['time'], odd['time'] = even['time-copy'],odd['time-copy']\n",
    "    return even.drop('time-copy'), odd.drop('time-copy')\n",
    "\n",
    "X_train, X_test = evenOdd(X_all)\n",
    "Y_train, Y_test = evenOdd(Y_all)"
   ]
  },
  {
   "cell_type": "code",
   "execution_count": 104,
   "metadata": {},
   "outputs": [],
   "source": [
    "#saving data\n",
    "for data in ['X_train', 'Y_train', 'X_test', 'Y_test']:\n",
    "    eval(data).to_netcdf('/glade/work/kwheelan/linear_data/'+ data + '_temp.nc')"
   ]
  },
  {
   "cell_type": "markdown",
   "metadata": {},
   "source": [
    "## ** Or skip everything above and run this: **\n",
    "(Note that this data is for lat = 38.125, lon = -101.875)"
   ]
  },
  {
   "cell_type": "code",
   "execution_count": 3,
   "metadata": {},
   "outputs": [],
   "source": [
    "X_train = xr.open_dataset('/glade/work/kwheelan/linear_data/X_train_temp.nc')\n",
    "Y_train = xr.open_dataset('/glade/work/kwheelan/linear_data/Y_train_temp.nc')\n",
    "X_test = xr.open_dataset('/glade/work/kwheelan/linear_data/X_test_temp.nc')\n",
    "Y_test = xr.open_dataset('/glade/work/kwheelan/linear_data/Y_test_temp.nc')"
   ]
  },
  {
   "cell_type": "markdown",
   "metadata": {},
   "source": [
    "### Correlation matrix for all the predictors\n",
    "\n",
    "This shows how closely related predictors are to each other.\n",
    "\n",
    "(I can add a scatterplot matrix here if that would be useful.)"
   ]
  },
  {
   "cell_type": "code",
   "execution_count": 105,
   "metadata": {},
   "outputs": [
    {
     "name": "stdout",
     "output_type": "stream",
     "text": [
      "               mslp       uas       vas    Q_p500    Q_p700    Q_p850  \\\n",
      "mslp       1.000000 -0.129894 -0.310736 -0.265442 -0.254331 -0.335956   \n",
      "uas       -0.129894  1.000000 -0.111838 -0.287138 -0.380566 -0.370521   \n",
      "vas       -0.310736 -0.111838  1.000000  0.243703  0.331457  0.421189   \n",
      "Q_p500    -0.265442 -0.287138  0.243703  1.000000  0.757604  0.693868   \n",
      "Q_p700    -0.254331 -0.380566  0.331457  0.757604  1.000000  0.879655   \n",
      "Q_p850    -0.335956 -0.370521  0.421189  0.693868  0.879655  1.000000   \n",
      "RH_p500   -0.013833 -0.158054 -0.197730  0.531100  0.166579  0.036350   \n",
      "RH_p700    0.163201 -0.277791 -0.207385  0.293290  0.519223  0.268704   \n",
      "RH_p850    0.260859 -0.426371 -0.157115  0.170314  0.297764  0.319731   \n",
      "U_p500     0.045124  0.198602 -0.247406 -0.277747 -0.420309 -0.483521   \n",
      "U_p700    -0.108274  0.427059  0.026345 -0.259750 -0.351836 -0.393478   \n",
      "U_p850    -0.211438  0.911085  0.170254 -0.216235 -0.292251 -0.255794   \n",
      "V_p500    -0.433750 -0.148770  0.289304  0.179732  0.169859  0.172722   \n",
      "V_p700    -0.438707 -0.325756  0.658262  0.328380  0.376237  0.383374   \n",
      "V_p850    -0.338248 -0.226880  0.974970  0.284650  0.368816  0.450771   \n",
      "Z_p500    -0.145755 -0.317408  0.466234  0.581214  0.715246  0.774761   \n",
      "Z_p700     0.127395 -0.308671  0.370748  0.477563  0.623760  0.668270   \n",
      "Z_p850     0.723775 -0.263743  0.026453  0.137262  0.257561  0.235427   \n",
      "Vort_p500 -0.071942  0.255008 -0.334882 -0.185239 -0.198086 -0.230167   \n",
      "Vort_p700 -0.436681  0.131581 -0.007658  0.104916  0.025032  0.041529   \n",
      "Vort_p850 -0.611210  0.002775  0.380422  0.276496  0.216978  0.278811   \n",
      "Div_p500   0.016420 -0.077974 -0.071395 -0.014523 -0.033920 -0.052769   \n",
      "Div_p700  -0.034973 -0.182467  0.123297  0.098132  0.201277  0.207752   \n",
      "Div_p850   0.452870 -0.006619  0.022836 -0.120593 -0.026324  0.019081   \n",
      "\n",
      "            RH_p500   RH_p700   RH_p850    U_p500  ...    V_p850    Z_p500  \\\n",
      "mslp      -0.013833  0.163201  0.260859  0.045124  ... -0.338248 -0.145755   \n",
      "uas       -0.158054 -0.277791 -0.426371  0.198602  ... -0.226880 -0.317408   \n",
      "vas       -0.197730 -0.207385 -0.157115 -0.247406  ...  0.974970  0.466234   \n",
      "Q_p500     0.531100  0.293290  0.170314 -0.277747  ...  0.284650  0.581214   \n",
      "Q_p700     0.166579  0.519223  0.297764 -0.420309  ...  0.368816  0.715246   \n",
      "Q_p850     0.036350  0.268704  0.319731 -0.483521  ...  0.450771  0.774761   \n",
      "RH_p500    1.000000  0.490947  0.356001  0.030760  ... -0.149858 -0.237258   \n",
      "RH_p700    0.490947  1.000000  0.679433 -0.124574  ... -0.171112 -0.088045   \n",
      "RH_p850    0.356001  0.679433  1.000000 -0.143907  ... -0.097615 -0.111473   \n",
      "U_p500     0.030760 -0.124574 -0.143907  1.000000  ... -0.237846 -0.466656   \n",
      "U_p700    -0.090283 -0.224907 -0.265602  0.781580  ... -0.002884 -0.364043   \n",
      "U_p850    -0.198393 -0.342340 -0.439123  0.208381  ...  0.063000 -0.198125   \n",
      "V_p500     0.125731  0.040750  0.121596  0.096550  ...  0.396007  0.017714   \n",
      "V_p700     0.019884 -0.022455  0.031575 -0.041926  ...  0.760322  0.327807   \n",
      "V_p850    -0.149858 -0.171112 -0.097615 -0.237846  ...  1.000000  0.478954   \n",
      "Z_p500    -0.237258 -0.088045 -0.111473 -0.466656  ...  0.478954  1.000000   \n",
      "Z_p700    -0.247190 -0.054160 -0.095899 -0.472365  ...  0.366382  0.949808   \n",
      "Z_p850    -0.176616  0.096141  0.091382 -0.310932  ... -0.002904  0.539721   \n",
      "Vort_p500  0.252413  0.304606  0.289567  0.134168  ... -0.326640 -0.565223   \n",
      "Vort_p700  0.240584  0.108405  0.208799  0.048240  ...  0.062550 -0.243081   \n",
      "Vort_p850  0.090590 -0.131252 -0.066189 -0.105745  ...  0.466912  0.149017   \n",
      "Div_p500  -0.021733 -0.032919 -0.062975  0.073657  ... -0.073623  0.000949   \n",
      "Div_p700  -0.117609 -0.003424 -0.066186 -0.165787  ...  0.133154  0.245119   \n",
      "Div_p850  -0.157744  0.057793  0.170462 -0.131218  ... -0.053885  0.069703   \n",
      "\n",
      "             Z_p700    Z_p850  Vort_p500  Vort_p700  Vort_p850  Div_p500  \\\n",
      "mslp       0.127395  0.723775  -0.071942  -0.436681  -0.611210  0.016420   \n",
      "uas       -0.308671 -0.263743   0.255008   0.131581   0.002775 -0.077974   \n",
      "vas        0.370748  0.026453  -0.334882  -0.007658   0.380422 -0.071395   \n",
      "Q_p500     0.477563  0.137262  -0.185239   0.104916   0.276496 -0.014523   \n",
      "Q_p700     0.623760  0.257561  -0.198086   0.025032   0.216978 -0.033920   \n",
      "Q_p850     0.668270  0.235427  -0.230167   0.041529   0.278811 -0.052769   \n",
      "RH_p500   -0.247190 -0.176616   0.252413   0.240584   0.090590 -0.021733   \n",
      "RH_p700   -0.054160  0.096141   0.304606   0.108405  -0.131252 -0.032919   \n",
      "RH_p850   -0.095899  0.091382   0.289567   0.208799  -0.066189 -0.062975   \n",
      "U_p500    -0.472365 -0.310932   0.134168   0.048240  -0.105745  0.073657   \n",
      "U_p700    -0.400493 -0.358244   0.081020   0.075387   0.034956  0.040839   \n",
      "U_p850    -0.222357 -0.276880   0.151686   0.160582   0.155316 -0.092115   \n",
      "V_p500    -0.146499 -0.412749   0.210672   0.532571   0.546681 -0.092397   \n",
      "V_p700     0.161909 -0.219277  -0.122680   0.329301   0.584134 -0.056112   \n",
      "V_p850     0.366382 -0.002904  -0.326640   0.062550   0.466912 -0.073623   \n",
      "Z_p500     0.949808  0.539721  -0.565223  -0.243081   0.149017  0.000949   \n",
      "Z_p700     1.000000  0.762530  -0.570283  -0.403063  -0.042768  0.010065   \n",
      "Z_p850     0.762530  1.000000  -0.407723  -0.575823  -0.465129  0.019843   \n",
      "Vort_p500 -0.570283 -0.407723   1.000000   0.616435   0.122403 -0.052163   \n",
      "Vort_p700 -0.403063 -0.575823   0.616435   1.000000   0.713090 -0.007368   \n",
      "Vort_p850 -0.042768 -0.465129   0.122403   0.713090   1.000000 -0.011761   \n",
      "Div_p500   0.010065  0.019843  -0.052163  -0.007368  -0.011761  1.000000   \n",
      "Div_p700   0.257784  0.150542  -0.212059  -0.155697   0.132070 -0.123612   \n",
      "Div_p850   0.196092  0.442613  -0.080785  -0.437509  -0.611483 -0.141431   \n",
      "\n",
      "           Div_p700  Div_p850  \n",
      "mslp      -0.034973  0.452870  \n",
      "uas       -0.182467 -0.006619  \n",
      "vas        0.123297  0.022836  \n",
      "Q_p500     0.098132 -0.120593  \n",
      "Q_p700     0.201277 -0.026324  \n",
      "Q_p850     0.207752  0.019081  \n",
      "RH_p500   -0.117609 -0.157744  \n",
      "RH_p700   -0.003424  0.057793  \n",
      "RH_p850   -0.066186  0.170462  \n",
      "U_p500    -0.165787 -0.131218  \n",
      "U_p700    -0.077384 -0.110172  \n",
      "U_p850    -0.145644  0.015013  \n",
      "V_p500    -0.148082 -0.403804  \n",
      "V_p700     0.041340 -0.332700  \n",
      "V_p850     0.133154 -0.053885  \n",
      "Z_p500     0.245119  0.069703  \n",
      "Z_p700     0.257784  0.196092  \n",
      "Z_p850     0.150542  0.442613  \n",
      "Vort_p500 -0.212059 -0.080785  \n",
      "Vort_p700 -0.155697 -0.437509  \n",
      "Vort_p850  0.132070 -0.611483  \n",
      "Div_p500  -0.123612 -0.141431  \n",
      "Div_p700   1.000000 -0.181116  \n",
      "Div_p850  -0.181116  1.000000  \n",
      "\n",
      "[24 rows x 24 columns]\n"
     ]
    }
   ],
   "source": [
    "ds_cor = X_train.to_dataframe().drop(['lat','lon', 'constant'], axis=1).corr()\n",
    "print(ds_cor)"
   ]
  },
  {
   "cell_type": "markdown",
   "metadata": {},
   "source": [
    "### Variance inflatation factors\n",
    "These numbers show the effect that each predictor has on the coefficients of a regression equation. A high VIF suggests that the predictor is highly correlated with other predictors. Generally a VIF of more than 10 is concerning (but also all the VIFs will change if you take some variables out.)"
   ]
  },
  {
   "cell_type": "code",
   "execution_count": 106,
   "metadata": {},
   "outputs": [
    {
     "name": "stdout",
     "output_type": "stream",
     "text": [
      "mslp: 40.68274317334952\n",
      "uas: 15.538464941984516\n",
      "vas: 48.114257458682694\n",
      "Q_p500: 10.097912868025388\n",
      "Q_p700: 24.75472071554902\n",
      "Q_p850: 18.7884995739684\n",
      "RH_p500: 6.136454416489379\n",
      "RH_p700: 11.168274668762454\n",
      "RH_p850: 8.154867549100953\n",
      "U_p500: 4.402992321529223\n",
      "U_p700: 5.203399200557392\n",
      "U_p850: 17.3789917093468\n",
      "V_p500: 6.985078904120455\n",
      "V_p700: 14.502487129458304\n",
      "V_p850: 65.31082772738219\n",
      "Z_p500: 149.98068531740446\n",
      "Z_p700: 348.1962615686609\n",
      "Z_p850: 158.6703103650077\n",
      "Vort_p500: 3.9768653990852205\n",
      "Vort_p700: 7.5208746413583585\n",
      "Vort_p850: 8.09063079188931\n",
      "Div_p500: 1.1752526423154344\n",
      "Div_p700: 1.5043131852180016\n",
      "Div_p850: 2.7153594233514102\n"
     ]
    }
   ],
   "source": [
    "vif = pd.DataFrame(np.linalg.inv(ds_cor.values), index = ds_cor.index, columns=ds_cor.columns)\n",
    "for i in range(vif.shape[0]):\n",
    "    #printing diagonal elements\n",
    "    print(vif.columns[i] + \": \" +str(vif.values[i,i]))"
   ]
  },
  {
   "cell_type": "markdown",
   "metadata": {},
   "source": [
    "I can add added variable plots if that would be helpful to see how closely the variables are related."
   ]
  },
  {
   "cell_type": "markdown",
   "metadata": {},
   "source": [
    "# Linear Prediction for Max Temp\n",
    "\n",
    "3 methods for prediction:\n",
    "- Regular linear prediction with all predictors\n",
    "- Regular linear prediction with a human selection of predictors\n",
    "- LASSO linear prediction"
   ]
  },
  {
   "cell_type": "markdown",
   "metadata": {},
   "source": [
    "### 1. Regular linear prediction with all predictors"
   ]
  },
  {
   "cell_type": "code",
   "execution_count": 4,
   "metadata": {},
   "outputs": [
    {
     "data": {
      "text/html": [
       "<div>\n",
       "<style scoped>\n",
       "    .dataframe tbody tr th:only-of-type {\n",
       "        vertical-align: middle;\n",
       "    }\n",
       "\n",
       "    .dataframe tbody tr th {\n",
       "        vertical-align: top;\n",
       "    }\n",
       "\n",
       "    .dataframe thead th {\n",
       "        text-align: right;\n",
       "    }\n",
       "</style>\n",
       "<table border=\"1\" class=\"dataframe\">\n",
       "  <thead>\n",
       "    <tr style=\"text-align: right;\">\n",
       "      <th></th>\n",
       "      <th>coefficient</th>\n",
       "    </tr>\n",
       "  </thead>\n",
       "  <tbody>\n",
       "    <tr>\n",
       "      <th>mslp</th>\n",
       "      <td>-403.587009</td>\n",
       "    </tr>\n",
       "    <tr>\n",
       "      <th>uas</th>\n",
       "      <td>-0.494096</td>\n",
       "    </tr>\n",
       "    <tr>\n",
       "      <th>vas</th>\n",
       "      <td>2.186164</td>\n",
       "    </tr>\n",
       "    <tr>\n",
       "      <th>Q_p500</th>\n",
       "      <td>-0.252574</td>\n",
       "    </tr>\n",
       "    <tr>\n",
       "      <th>Q_p700</th>\n",
       "      <td>-0.484672</td>\n",
       "    </tr>\n",
       "    <tr>\n",
       "      <th>Q_p850</th>\n",
       "      <td>0.886289</td>\n",
       "    </tr>\n",
       "    <tr>\n",
       "      <th>RH_p500</th>\n",
       "      <td>0.109612</td>\n",
       "    </tr>\n",
       "    <tr>\n",
       "      <th>RH_p700</th>\n",
       "      <td>0.539814</td>\n",
       "    </tr>\n",
       "    <tr>\n",
       "      <th>RH_p850</th>\n",
       "      <td>-0.373380</td>\n",
       "    </tr>\n",
       "    <tr>\n",
       "      <th>U_p500</th>\n",
       "      <td>-0.119765</td>\n",
       "    </tr>\n",
       "    <tr>\n",
       "      <th>U_p700</th>\n",
       "      <td>0.568674</td>\n",
       "    </tr>\n",
       "    <tr>\n",
       "      <th>U_p850</th>\n",
       "      <td>-0.149315</td>\n",
       "    </tr>\n",
       "    <tr>\n",
       "      <th>V_p500</th>\n",
       "      <td>-0.443510</td>\n",
       "    </tr>\n",
       "    <tr>\n",
       "      <th>V_p700</th>\n",
       "      <td>-0.304819</td>\n",
       "    </tr>\n",
       "    <tr>\n",
       "      <th>V_p850</th>\n",
       "      <td>-0.961594</td>\n",
       "    </tr>\n",
       "    <tr>\n",
       "      <th>Z_p500</th>\n",
       "      <td>-54.832121</td>\n",
       "    </tr>\n",
       "    <tr>\n",
       "      <th>Z_p700</th>\n",
       "      <td>171.285456</td>\n",
       "    </tr>\n",
       "    <tr>\n",
       "      <th>Z_p850</th>\n",
       "      <td>9.456336</td>\n",
       "    </tr>\n",
       "    <tr>\n",
       "      <th>Vort_p500</th>\n",
       "      <td>-0.143559</td>\n",
       "    </tr>\n",
       "    <tr>\n",
       "      <th>Vort_p700</th>\n",
       "      <td>1.064926</td>\n",
       "    </tr>\n",
       "    <tr>\n",
       "      <th>Vort_p850</th>\n",
       "      <td>-0.707433</td>\n",
       "    </tr>\n",
       "    <tr>\n",
       "      <th>Div_p500</th>\n",
       "      <td>0.228228</td>\n",
       "    </tr>\n",
       "    <tr>\n",
       "      <th>Div_p700</th>\n",
       "      <td>0.414669</td>\n",
       "    </tr>\n",
       "    <tr>\n",
       "      <th>Div_p850</th>\n",
       "      <td>0.624043</td>\n",
       "    </tr>\n",
       "    <tr>\n",
       "      <th>constant</th>\n",
       "      <td>10.424915</td>\n",
       "    </tr>\n",
       "  </tbody>\n",
       "</table>\n",
       "</div>"
      ],
      "text/plain": [
       "           coefficient\n",
       "mslp       -403.587009\n",
       "uas          -0.494096\n",
       "vas           2.186164\n",
       "Q_p500       -0.252574\n",
       "Q_p700       -0.484672\n",
       "Q_p850        0.886289\n",
       "RH_p500       0.109612\n",
       "RH_p700       0.539814\n",
       "RH_p850      -0.373380\n",
       "U_p500       -0.119765\n",
       "U_p700        0.568674\n",
       "U_p850       -0.149315\n",
       "V_p500       -0.443510\n",
       "V_p700       -0.304819\n",
       "V_p850       -0.961594\n",
       "Z_p500      -54.832121\n",
       "Z_p700      171.285456\n",
       "Z_p850        9.456336\n",
       "Vort_p500    -0.143559\n",
       "Vort_p700     1.064926\n",
       "Vort_p850    -0.707433\n",
       "Div_p500      0.228228\n",
       "Div_p700      0.414669\n",
       "Div_p850      0.624043\n",
       "constant     10.424915"
      ]
     },
     "execution_count": 4,
     "metadata": {},
     "output_type": "execute_result"
    }
   ],
   "source": [
    "y = Y_train.tmax.values #obs values\n",
    "all_preds = [key for key in X_train.keys()] #the names of the predictors\n",
    "\n",
    "def fit_linear_model(X, y, keys=None):\n",
    "    \"\"\"Use linear algebra to compute the betas for a multiple linear regression.\n",
    "       Input: X (predictors) and y (obs) as xarray objects\n",
    "       Output: a pandas dataframe with the betas (estimated coefficients) for each predictor\"\"\"\n",
    "    if not type(X) is np.matrixlib.defmatrix.matrix:\n",
    "        keys = [key for key in X.keys()]\n",
    "        X = np.matrix([X[key].values for key in keys]).transpose() #X matrix; rows are days, columns are variables\n",
    "    XT = X.transpose() #X transpose \n",
    "    betas = np.matmul(np.matmul(np.linalg.inv(np.matmul(XT,X)), XT), y)\n",
    "    b = pd.DataFrame(index = range(1))\n",
    "    for i in range(len(keys)):\n",
    "        b[keys[i]] = betas[0,i] #assigning names to each coefficient\n",
    "    return b\n",
    "\n",
    "betas_all_linear = fit_linear_model(X_train, y).rename(index = {0: 'coefficient'}).transpose() #calculate coefficients for training data\n",
    "# uncommnent the line below to print out all the coefficients\n",
    "betas_all_linear"
   ]
  },
  {
   "cell_type": "markdown",
   "metadata": {},
   "source": [
    "### 2. Regular linear prediction with some subset of the predictors\n",
    "\n",
    "Comment out any predictors to omit them from the regression."
   ]
  },
  {
   "cell_type": "code",
   "execution_count": 5,
   "metadata": {},
   "outputs": [
    {
     "data": {
      "text/html": [
       "<div>\n",
       "<style scoped>\n",
       "    .dataframe tbody tr th:only-of-type {\n",
       "        vertical-align: middle;\n",
       "    }\n",
       "\n",
       "    .dataframe tbody tr th {\n",
       "        vertical-align: top;\n",
       "    }\n",
       "\n",
       "    .dataframe thead th {\n",
       "        text-align: right;\n",
       "    }\n",
       "</style>\n",
       "<table border=\"1\" class=\"dataframe\">\n",
       "  <thead>\n",
       "    <tr style=\"text-align: right;\">\n",
       "      <th></th>\n",
       "      <th>coefficient</th>\n",
       "    </tr>\n",
       "  </thead>\n",
       "  <tbody>\n",
       "    <tr>\n",
       "      <th>uas</th>\n",
       "      <td>-1.352511</td>\n",
       "    </tr>\n",
       "    <tr>\n",
       "      <th>Q_p500</th>\n",
       "      <td>8.387753</td>\n",
       "    </tr>\n",
       "    <tr>\n",
       "      <th>RH_p500</th>\n",
       "      <td>-7.132017</td>\n",
       "    </tr>\n",
       "    <tr>\n",
       "      <th>RH_p850</th>\n",
       "      <td>-3.381275</td>\n",
       "    </tr>\n",
       "    <tr>\n",
       "      <th>U_p500</th>\n",
       "      <td>-3.681490</td>\n",
       "    </tr>\n",
       "    <tr>\n",
       "      <th>U_p700</th>\n",
       "      <td>1.409450</td>\n",
       "    </tr>\n",
       "    <tr>\n",
       "      <th>V_p500</th>\n",
       "      <td>0.288033</td>\n",
       "    </tr>\n",
       "    <tr>\n",
       "      <th>Vort_p500</th>\n",
       "      <td>0.029387</td>\n",
       "    </tr>\n",
       "    <tr>\n",
       "      <th>Vort_p700</th>\n",
       "      <td>-0.742173</td>\n",
       "    </tr>\n",
       "    <tr>\n",
       "      <th>Vort_p850</th>\n",
       "      <td>1.230149</td>\n",
       "    </tr>\n",
       "    <tr>\n",
       "      <th>Div_p500</th>\n",
       "      <td>0.283019</td>\n",
       "    </tr>\n",
       "    <tr>\n",
       "      <th>Div_p700</th>\n",
       "      <td>0.511730</td>\n",
       "    </tr>\n",
       "    <tr>\n",
       "      <th>Div_p850</th>\n",
       "      <td>0.702731</td>\n",
       "    </tr>\n",
       "    <tr>\n",
       "      <th>constant</th>\n",
       "      <td>16.002990</td>\n",
       "    </tr>\n",
       "  </tbody>\n",
       "</table>\n",
       "</div>"
      ],
      "text/plain": [
       "           coefficient\n",
       "uas          -1.352511\n",
       "Q_p500        8.387753\n",
       "RH_p500      -7.132017\n",
       "RH_p850      -3.381275\n",
       "U_p500       -3.681490\n",
       "U_p700        1.409450\n",
       "V_p500        0.288033\n",
       "Vort_p500     0.029387\n",
       "Vort_p700    -0.742173\n",
       "Vort_p850     1.230149\n",
       "Div_p500      0.283019\n",
       "Div_p700      0.511730\n",
       "Div_p850      0.702731\n",
       "constant     16.002990"
      ]
     },
     "execution_count": 5,
     "metadata": {},
     "output_type": "execute_result"
    }
   ],
   "source": [
    "#The predictors to include in a linear regression\n",
    "#comment out any predictors to be dropped\n",
    "preds_to_keep = [\n",
    " #'mslp',\n",
    " 'uas',\n",
    " #'vas',\n",
    " #'ps', #doesn't exist in the input data\n",
    " 'Q_p500',\n",
    " #'Q_p700',\n",
    " #'Q_p850',\n",
    " 'RH_p500',\n",
    " #'RH_p700',\n",
    " 'RH_p850',\n",
    " 'U_p500',\n",
    " 'U_p700',\n",
    " #'U_p850',\n",
    " 'V_p500',\n",
    " #'V_p700',\n",
    " #'V_p850',\n",
    " #'Z_p500',\n",
    " #'Z_p700',\n",
    " #'Z_p850',\n",
    " 'Vort_p500',\n",
    " 'Vort_p700',\n",
    " 'Vort_p850',\n",
    " 'Div_p500',\n",
    " 'Div_p700',\n",
    " 'Div_p850',\n",
    " 'constant']\n",
    "\n",
    "#Will drop any variables commented out\n",
    "preds_to_drop = [x for x in all_preds if not x in preds_to_keep]\n",
    "\n",
    "#get just subset of predictors\n",
    "x_train_subset = np.matrix([X_train[key].values for key in preds_to_keep]).transpose()\n",
    "x_test_subset = np.matrix([X_test[key].values for key in preds_to_keep]).transpose()\n",
    "\n",
    "#calculate coefficients for training data\n",
    "betas_handselect_linear = fit_linear_model(x_train_subset, y, \n",
    "                                        keys=preds_to_keep).rename(index = {0: 'coefficient'}).transpose()\n",
    "\n",
    "# uncommnent the line below to print out all the coefficients\n",
    "betas_handselect_linear"
   ]
  },
  {
   "cell_type": "markdown",
   "metadata": {},
   "source": [
    "### 3. LASSO Regression\n",
    "\n",
    "(Using SciKit-Learn here)"
   ]
  },
  {
   "cell_type": "code",
   "execution_count": 6,
   "metadata": {},
   "outputs": [
    {
     "data": {
      "text/html": [
       "<div>\n",
       "<style scoped>\n",
       "    .dataframe tbody tr th:only-of-type {\n",
       "        vertical-align: middle;\n",
       "    }\n",
       "\n",
       "    .dataframe tbody tr th {\n",
       "        vertical-align: top;\n",
       "    }\n",
       "\n",
       "    .dataframe thead th {\n",
       "        text-align: right;\n",
       "    }\n",
       "</style>\n",
       "<table border=\"1\" class=\"dataframe\">\n",
       "  <thead>\n",
       "    <tr style=\"text-align: right;\">\n",
       "      <th></th>\n",
       "      <th>coefficient</th>\n",
       "    </tr>\n",
       "  </thead>\n",
       "  <tbody>\n",
       "    <tr>\n",
       "      <th>mslp</th>\n",
       "      <td>-312.212634</td>\n",
       "    </tr>\n",
       "    <tr>\n",
       "      <th>vas</th>\n",
       "      <td>0.392316</td>\n",
       "    </tr>\n",
       "    <tr>\n",
       "      <th>Q_p850</th>\n",
       "      <td>0.584837</td>\n",
       "    </tr>\n",
       "    <tr>\n",
       "      <th>V_p500</th>\n",
       "      <td>-0.667293</td>\n",
       "    </tr>\n",
       "    <tr>\n",
       "      <th>Z_p700</th>\n",
       "      <td>121.720412</td>\n",
       "    </tr>\n",
       "    <tr>\n",
       "      <th>Div_p500</th>\n",
       "      <td>0.046703</td>\n",
       "    </tr>\n",
       "    <tr>\n",
       "      <th>Div_p700</th>\n",
       "      <td>0.115940</td>\n",
       "    </tr>\n",
       "    <tr>\n",
       "      <th>Div_p850</th>\n",
       "      <td>0.510089</td>\n",
       "    </tr>\n",
       "    <tr>\n",
       "      <th>constant</th>\n",
       "      <td>11.481665</td>\n",
       "    </tr>\n",
       "  </tbody>\n",
       "</table>\n",
       "</div>"
      ],
      "text/plain": [
       "          coefficient\n",
       "mslp      -312.212634\n",
       "vas          0.392316\n",
       "Q_p850       0.584837\n",
       "V_p500      -0.667293\n",
       "Z_p700     121.720412\n",
       "Div_p500     0.046703\n",
       "Div_p700     0.115940\n",
       "Div_p850     0.510089\n",
       "constant    11.481665"
      ]
     },
     "execution_count": 6,
     "metadata": {},
     "output_type": "execute_result"
    }
   ],
   "source": [
    "#LASSO regressor that uses BIC to optimize the alpha (L1 regulator)\n",
    "reg = sklearn.linear_model.LassoLarsIC(criterion = 'bic')\n",
    "\n",
    "#making a numpy array\n",
    "keys = [key for key in X_train.keys()]\n",
    "X_train_np = np.matrix([X_train[key].values for key in keys]).transpose()\n",
    "X_test_np = np.matrix([X_test[key].values for key in keys]).transpose()\n",
    "reg.fit(X_train_np, y)\n",
    "\n",
    "lasso_preds = [all_preds[i] for i in range(len(reg.coef_)) if reg.coef_[i] != 0] + ['constant']\n",
    "betas_LASSO = pd.DataFrame(index = lasso_preds, \n",
    "                        data = [coef for coef in reg.coef_ if coef !=0] + [reg.intercept_], columns = ['coefficient'])\n",
    "\n",
    "x_test_lasso = np.matrix([X_test[key].values for key in lasso_preds]).transpose()\n",
    "\n",
    "#uncomment below to print coefficients\n",
    "betas_LASSO"
   ]
  },
  {
   "cell_type": "markdown",
   "metadata": {},
   "source": [
    "## Evaluating regression methods\n",
    "\n",
    "RMSE can only decrease with fewer predictors and also that LASSO does not optimize for RMSE. So I've also included AIC as a measure of goodness-of-fit since AIC punishes models with too many predictors. \n",
    "\n",
    "AIC = Akaike Information Criterion = $2k - 2ln(\\hat{L})$, $k$=number of predictors, $n$=number of datapoints, $\\hat{L}$=solution to maximum likelihood function, here we use SSE (sum of squared error) since we assume the errors are normally distributed to get AIC = $2k + n(ln(\\frac{SSE}{n}))$. A lower AIC value suggests a better fit."
   ]
  },
  {
   "cell_type": "code",
   "execution_count": 7,
   "metadata": {},
   "outputs": [
    {
     "data": {
      "text/html": [
       "<div>\n",
       "<style scoped>\n",
       "    .dataframe tbody tr th:only-of-type {\n",
       "        vertical-align: middle;\n",
       "    }\n",
       "\n",
       "    .dataframe tbody tr th {\n",
       "        vertical-align: top;\n",
       "    }\n",
       "\n",
       "    .dataframe thead th {\n",
       "        text-align: right;\n",
       "    }\n",
       "</style>\n",
       "<table border=\"1\" class=\"dataframe\">\n",
       "  <thead>\n",
       "    <tr style=\"text-align: right;\">\n",
       "      <th></th>\n",
       "      <th>n_predictors</th>\n",
       "      <th>RMSE</th>\n",
       "      <th>AIC</th>\n",
       "    </tr>\n",
       "  </thead>\n",
       "  <tbody>\n",
       "    <tr>\n",
       "      <th>all predictors</th>\n",
       "      <td>25</td>\n",
       "      <td>2.75744</td>\n",
       "      <td>12637.5</td>\n",
       "    </tr>\n",
       "    <tr>\n",
       "      <th>handpicked predictors</th>\n",
       "      <td>14</td>\n",
       "      <td>6.06735</td>\n",
       "      <td>22402.3</td>\n",
       "    </tr>\n",
       "    <tr>\n",
       "      <th>LASSO</th>\n",
       "      <td>9</td>\n",
       "      <td>2.95225</td>\n",
       "      <td>13452.7</td>\n",
       "    </tr>\n",
       "  </tbody>\n",
       "</table>\n",
       "</div>"
      ],
      "text/plain": [
       "                      n_predictors     RMSE      AIC\n",
       "all predictors                  25  2.75744  12637.5\n",
       "handpicked predictors           14  6.06735  22402.3\n",
       "LASSO                            9  2.95225  13452.7"
      ]
     },
     "execution_count": 7,
     "metadata": {},
     "output_type": "execute_result"
    }
   ],
   "source": [
    "models = ['all predictors', 'handpicked predictors', 'LASSO'] #names of each probability model\n",
    "inputData = ['X_test_np', 'x_test_subset', 'x_test_lasso'] #the input data for each model\n",
    "#the names of the dataframes where the coefficents are stored\n",
    "betas = ['betas_all_linear', 'betas_handselect_linear', 'betas_LASSO'] \n",
    "\n",
    "y_test_np = Y_test.tmax.values #obs values for testing as numpy array\n",
    "\n",
    "#creating a dataframe to save the model metrics\n",
    "model_metrics = pd.DataFrame(index = models, columns = ['n_predictors','RMSE', 'AIC'])\n",
    "\n",
    "def predict_linear(X, betas):\n",
    "    \"\"\"Input: X, an xarray object containing predictors (obs as rows, predictors as columnns), \n",
    "              betas, a numpy matrix of coefficients\n",
    "       Output: Predictions in a numpy matrix; each row is a separate day\"\"\"\n",
    "    keys = [key for key in X.keys()]\n",
    "    X = np.matrix([X[key].values for key in keys]).transpose()\n",
    "    return np.matmul(X, betas)\n",
    "\n",
    "def RMSE(preds, obs):\n",
    "    \"\"\"Input: numpy matrix of predictions, numpy matrix of true values (for both, each row is a day)\n",
    "       Output: Root mean squared error, as a float\"\"\"\n",
    "    return np.sqrt(np.square(preds - obs.reshape(obs.shape[0],1)).mean())\n",
    "\n",
    "def AIC(preds, obs, k):\n",
    "    \"\"\"Input: numpy matrix of predictions, \n",
    "              numpy matrix of true values (for both, each row is a day)\n",
    "              k (integer), the number of predictors\n",
    "       Output: Akaike's Information Criterion, as a float\"\"\"\n",
    "    n = preds.shape[0] #length of time series (number of points)\n",
    "    SSE = np.square(preds - obs.reshape(obs.shape[0],1)).sum() #Sum of squared errors\n",
    "    return (2*k) + (n * np.log(SSE/n)) \n",
    "\n",
    "for model,inputData,betaList,i in zip(models, inputData, betas, range(len(betas))):\n",
    "    #evaluating the various goodness-of-fit metrics for each model\n",
    "    preds = np.matmul(eval(inputData), eval(betaList)) #predict values for comparison to obs \n",
    "    k = eval(betaList).shape[0] #number of predictors\n",
    "    model_metrics['n_predictors'][i] = k\n",
    "    model_metrics['RMSE'][i] = RMSE(preds, Y_test.tmax.values)\n",
    "    model_metrics['AIC'][i] = AIC(preds, Y_test.tmax.values, k)\n",
    "\n",
    "#Print the table out\n",
    "model_metrics"
   ]
  },
  {
   "cell_type": "code",
   "execution_count": null,
   "metadata": {},
   "outputs": [],
   "source": [
    "#look at climate distributions..."
   ]
  },
  {
   "cell_type": "markdown",
   "metadata": {},
   "source": [
    "# Getting Predictions from Chosen Regression Method\n",
    "\n",
    "I've chosen to do LASSO regression for maximum temperature."
   ]
  },
  {
   "cell_type": "code",
   "execution_count": 8,
   "metadata": {},
   "outputs": [],
   "source": [
    "#here I've chosen LASSO for linear regression\n",
    "final_preds = pd.DataFrame(np.matmul(np.matrix([X_test[key].values for key in lasso_preds]).transpose(),\n",
    "                                   betas_LASSO))[0].values"
   ]
  },
  {
   "cell_type": "markdown",
   "metadata": {},
   "source": [
    "# Adding a stochastic element from a distribution\n",
    "\n",
    "(This might be similar to the 'variance factor' in the paper)\n",
    "\n",
    "This will necessarily increase the RMSE/AIC/BIC, but it might help the distributions.\n",
    "\n",
    "It makes less sense to add a stochastic element to temperature than to precipitation, but the model does slightly underpredict extremes."
   ]
  },
  {
   "cell_type": "markdown",
   "metadata": {},
   "source": [
    "## The raw distributions"
   ]
  },
  {
   "cell_type": "code",
   "execution_count": 27,
   "metadata": {},
   "outputs": [
    {
     "data": {
      "image/png": "[encoded data removed]",
      "text/plain": [
       "<Figure size 432x288 with 1 Axes>"
      ]
     },
     "metadata": {
      "needs_background": "light"
     },
     "output_type": "display_data"
    },
    {
     "data": {
      "image/png": "[encoded data removed]",
      "text/plain": [
       "<Figure size 432x288 with 1 Axes>"
      ]
     },
     "metadata": {
      "needs_background": "light"
     },
     "output_type": "display_data"
    }
   ],
   "source": [
    "def plotDists(final_preds):\n",
    "    \"\"\"Plotting the true and modeled distributions on a log scale\"\"\"\n",
    "    for data, title in zip([Y_test.tmax, final_preds], ['Observed', 'Modeled']):\n",
    "        length = data.shape[0] #number of pts\n",
    "        pmean = round(float(data.mean()),3) #mean\n",
    "        pstd = round(float(data.std()),3) #standard deviation\n",
    "\n",
    "        #plot details\n",
    "        plt.hist(data, bins = 20)\n",
    "        plt.title(title + ' Max Temp Distribution',fontsize=18) #title\n",
    "        plt.xlim(xmin=-30, xmax = 50)\n",
    "        plt.ylim(ymin=0, ymax = 750)\n",
    "\n",
    "        #show mean and std\n",
    "        plt.text(-20,500, \"Mean: \" + str(pmean) + \"\\nStd: \" + str(pstd))\n",
    "        plt.show()\n",
    "        \n",
    "plotDists(final_preds)"
   ]
  },
  {
   "cell_type": "markdown",
   "metadata": {},
   "source": [
    "## Adding a normal distribution element"
   ]
  },
  {
   "cell_type": "code",
   "execution_count": 26,
   "metadata": {},
   "outputs": [
    {
     "data": {
      "image/png": "[encoded data removed]",
      "text/plain": [
       "<Figure size 432x288 with 1 Axes>"
      ]
     },
     "metadata": {
      "needs_background": "light"
     },
     "output_type": "display_data"
    },
    {
     "data": {
      "image/png": "[encoded data removed]",
      "text/plain": [
       "<Figure size 432x288 with 1 Axes>"
      ]
     },
     "metadata": {
      "needs_background": "light"
     },
     "output_type": "display_data"
    }
   ],
   "source": [
    "mu, sigma = 0, 1 #mean and standard deviation\n",
    "data = np.random.normal(mu, sigma, 100000) #gettign 100,000 random points from this distribution\n",
    "\n",
    "def makePlots(data):\n",
    "    \"\"\"Plotting a distibution on a normal scale and on a log scale.\"\"\"\n",
    "    \n",
    "    #plotting a normal distribution\n",
    "    plt.hist(data, bins = 50)\n",
    "    plt.title('Distribution')\n",
    "    plt.show()\n",
    "\n",
    "    #plotting the same distribution on a log scale\n",
    "    ax = plt.subplot()\n",
    "    ax.set_xscale(\"log\", nonposx='clip')\n",
    "    logbins = np.geomspace(0.01,150, 50)\n",
    "    plt.hist(data, bins=logbins)\n",
    "    plt.title('Distribution on a log scale')\n",
    "    plt.show()\n",
    "    \n",
    "makePlots(data)"
   ]
  },
  {
   "cell_type": "markdown",
   "metadata": {},
   "source": [
    "## Gamma Distributions "
   ]
  },
  {
   "cell_type": "code",
   "execution_count": 110,
   "metadata": {},
   "outputs": [
    {
     "data": {
      "image/png": "[encoded data removed]",
      "text/plain": [
       "<Figure size 432x288 with 1 Axes>"
      ]
     },
     "metadata": {
      "needs_background": "light"
     },
     "output_type": "display_data"
    },
    {
     "data": {
      "image/png": "[encoded data removed]",
      "text/plain": [
       "<Figure size 432x288 with 1 Axes>"
      ]
     },
     "metadata": {
      "needs_background": "light"
     },
     "output_type": "display_data"
    }
   ],
   "source": [
    "k = 3 #shape\n",
    "theta = 3 #scale\n",
    "\n",
    "makePlots(np.random.gamma(k,theta,100000))"
   ]
  },
  {
   "cell_type": "markdown",
   "metadata": {},
   "source": [
    "## Adding a stochastic element to the predictions\n",
    "\n",
    "You can change the distributions to see what works the best"
   ]
  },
  {
   "cell_type": "code",
   "execution_count": 31,
   "metadata": {},
   "outputs": [
    {
     "data": {
      "image/png": "[encoded data removed]",
      "text/plain": [
       "<Figure size 432x288 with 1 Axes>"
      ]
     },
     "metadata": {
      "needs_background": "light"
     },
     "output_type": "display_data"
    },
    {
     "data": {
      "image/png": "[encoded data removed]",
      "text/plain": [
       "<Figure size 432x288 with 1 Axes>"
      ]
     },
     "metadata": {
      "needs_background": "light"
     },
     "output_type": "display_data"
    }
   ],
   "source": [
    "#Normal \n",
    "mu, sigma =-0.5, 3\n",
    "\n",
    "#Gamma\n",
    "k, theta = 2,5\n",
    "\n",
    "np.random.seed(42)\n",
    "\n",
    "#toggle these two lines to do a normal or gamma distribution\n",
    "stochast = np.random.normal(mu, sigma, final_preds.shape[0])\n",
    "#stochast = np.random.gamma(k,theta,final_preds.shape[0])\n",
    "\n",
    "corrected_preds = final_preds + stochast\n",
    "\n",
    "plotDists(corrected_preds)"
   ]
  },
  {
   "cell_type": "markdown",
   "metadata": {},
   "source": [
    "### Write the final predictions to disk"
   ]
  },
  {
   "cell_type": "code",
   "execution_count": 34,
   "metadata": {},
   "outputs": [],
   "source": [
    "#save location\n",
    "location = '/glade/work/kwheelan/datasets'\n",
    "\n",
    "#just saving as a txt file right now, but I could convert to xarray if needed\n",
    "#saves just the predicted precip values in order of data\n",
    "np.savetxt(os.path.join(location, 'oddYrPreds_TMAX_' + str(lat) + '.' + str(lon) + '.txt'), corrected_preds, delimiter = ',')"
   ]
  }
 ],
 "metadata": {
  "kernelspec": {
   "display_name": "Python 3",
   "language": "python",
   "name": "python3"
  },
  "language_info": {
   "codemirror_mode": {
    "name": "ipython",
    "version": 3
   },
   "file_extension": ".py",
   "mimetype": "text/x-python",
   "name": "python",
   "nbconvert_exporter": "python",
   "pygments_lexer": "ipython3",
   "version": "3.6.8"
  }
 },
 "nbformat": 4,
 "nbformat_minor": 4
}
