{
 "cells": [
  {
   "cell_type": "markdown",
   "metadata": {},
   "source": [
    "# Using Betas to Predict given input\n",
    "\n",
    "Katrina Wheelan, Updated 7.16.20"
   ]
  },
  {
   "cell_type": "markdown",
   "metadata": {},
   "source": [
    "### Importing the necessary packages"
   ]
  },
  {
   "cell_type": "code",
   "execution_count": 3,
   "metadata": {},
   "outputs": [],
   "source": [
    "import warnings\n",
    "warnings.filterwarnings('ignore')\n",
    "import xarray as xr\n",
    "import sklearn\n",
    "import pandas as pd\n",
    "import numpy as np\n",
    "from sklearn.linear_model import LogisticRegression, Lasso, LinearRegression\n",
    "from sklearn.model_selection import ShuffleSplit, cross_val_score, GridSearchCV\n",
    "from sklearn.metrics import log_loss\n",
    "import matplotlib.pyplot as plt\n",
    "import os"
   ]
  },
  {
   "cell_type": "markdown",
   "metadata": {},
   "source": [
    "## Input Coordinates"
   ]
  },
  {
   "cell_type": "code",
   "execution_count": 2,
   "metadata": {},
   "outputs": [],
   "source": [
    "#Adjust these if needed; takes a single cell\n",
    "lat = 38.125\n",
    "lon = -101.875\n",
    "\n",
    "obs_var='tmax'"
   ]
  },
  {
   "cell_type": "markdown",
   "metadata": {},
   "source": [
    "## Import Data"
   ]
  },
  {
   "cell_type": "code",
   "execution_count": 3,
   "metadata": {},
   "outputs": [],
   "source": [
    "# input data\n",
    "X_all = xr.open_dataset('/glade/work/kwheelan/linear_data/X_all_temp_bymonth.nc')\n",
    "\n",
    "# obs data\n",
    "obs_file = \"/glade/p/cisl/risc/narccap/obs/gridMET/common/DCA/tmax.gridMET.NAM-22i.SGP.nc\"\n",
    "obs = xr.open_mfdataset(obs_file).sel(time = slice('1979-01-01','2014-12-31'))\n",
    "Y_all = obs.sel(lat = lat, lon = lon, method = 'nearest').sel(time = slice('1980-01-01','2014-12-31'))                                     "
   ]
  },
  {
   "cell_type": "markdown",
   "metadata": {},
   "source": [
    "## Import Betas"
   ]
  },
  {
   "cell_type": "code",
   "execution_count": 4,
   "metadata": {},
   "outputs": [],
   "source": [
    "ROOT = '/glade/work/kwheelan/Linear_downscaling/betas'\n",
    "\n",
    "def filepath(lat, lon, betas):\n",
    "    return os.path.join(ROOT, '{}_tmax_{}_{}.nc'.format(betas, str(lat),str(lon)))\n",
    "    \n",
    "preds_to_keep, linear_betas = list(pd.read_csv(filepath(lat, lon, \"coefMatrix\"))[\"Unnamed: 0\"]), pd.read_csv(filepath(lat, lon, \"coefMatrix\")).drop(\"Unnamed: 0\", axis=1)\n",
    "lasso_preds, LASSO_month_betas = list(pd.read_csv(filepath(lat, lon,'betas_LASSO_list'))[\"Unnamed: 0\"]), pd.read_csv(filepath(lat, lon,'betas_LASSO_list')).drop(\"Unnamed: 0\", axis=1)\n",
    "lasso_preds_annual, LASSO_annual_betas = list(pd.read_csv(filepath(lat, lon, 'betas_LASSO_annual_list'))[\"Unnamed: 0\"]), pd.read_csv(filepath(lat, lon,'betas_LASSO_annual_list')).drop(\"Unnamed: 0\", axis=1)\n",
    "lasso_preds = list(lasso_preds)[:-1] + ['constant']\n",
    "lasso_preds_annual = list(lasso_preds_annual)[:-1] + ['constant']"
   ]
  },
  {
   "cell_type": "markdown",
   "metadata": {},
   "source": [
    "## Make predictions"
   ]
  },
  {
   "cell_type": "code",
   "execution_count": null,
   "metadata": {},
   "outputs": [],
   "source": [
    "#Automatically uses all three models to predict for all months\n",
    "#(Takes a while to run)\n",
    "\n",
    "X_all_cp = X_all\n",
    "X_all_cp['time'] = X_all_cp['time-copy'].dt.month\n",
    "x_all_lasso = [np.matrix([X_all_cp.sel(time = month)[key].values for key in lasso_preds]).transpose() for month in range(1,13)]\n",
    "x_all_hand = [np.matrix([X_all_cp.sel(time = month)[key].values for key in preds_to_keep]).transpose() for month in range(1,13)]\n",
    "x_all_lasso_annual = [np.matrix([X_all_cp.sel(time = month)[key].values for key in lasso_preds_annual]).transpose() for month in range(1,13)]"
   ]
  },
  {
   "cell_type": "code",
   "execution_count": 48,
   "metadata": {},
   "outputs": [],
   "source": [
    "def knit_data(x_all, betas):\n",
    "    for month in range(1,13):\n",
    "        X_month = X_all_cp.sel(time=month)\n",
    "        X_month[\"preds\"] = X_month['time'] + X_month['lat']\n",
    "        X_month[\"preds\"]= ({'time' : 'time'}, np.matmul(x_all[month-1], betas[monthsFull[month-1]]))\n",
    "        X_month['time'] = X_month['time-copy']\n",
    "        if month == 1:\n",
    "            X_preds = 0\n",
    "            X_preds = X_month\n",
    "        else:\n",
    "            X_preds = xr.concat([X_preds, X_month], dim = \"time\")\n",
    "\n",
    "    return X_preds.sortby('time')"
   ]
  },
  {
   "cell_type": "code",
   "execution_count": 49,
   "metadata": {},
   "outputs": [],
   "source": [
    "monthsAbrev = ['Jan','Feb', 'Mar','Apr','May','Jun','Jul','Aug','Sep','Oct','Nov','Dec']\n",
    "monthsFull = ['January','February', 'March','April','May','June','July','August','September','October','November','December']\n",
    "\n",
    "X_preds_lin = knit_data(x_all_hand, linear_betas)\n",
    "X_preds_lasso = knit_data(x_all_lasso, LASSO_month_betas)\n",
    "X_preds_lasso_annual = knit_data(x_all_lasso_annual, LASSO_annual_betas)"
   ]
  },
  {
   "cell_type": "code",
   "execution_count": null,
   "metadata": {},
   "outputs": [],
   "source": []
  },
  {
   "cell_type": "code",
   "execution_count": 53,
   "metadata": {},
   "outputs": [],
   "source": [
    "#save location\n",
    "location = '/glade/work/kwheelan/datasets'\n",
    "\n",
    "#saves the original predictions (no stochastic componenet as a netCDF)\n",
    "for model in [\"lin\", 'lasso', 'lasso_annual']:\n",
    "    fp = '/glade/work/kwheelan/linear_data/finalPreds_{}_tmax_{}_{}.nc'.format(model, str(lat),str(lon))\n",
    "    try:\n",
    "        os.remove(fp)\n",
    "    except: pass\n",
    "    eval(\"X_preds_\" + model).to_netcdf(fp)"
   ]
  },
  {
   "cell_type": "code",
   "execution_count": 12,
   "metadata": {},
   "outputs": [
    {
     "data": {
      "image/png": "[encoded data removed]",
      "text/plain": [
       "<Figure size 432x288 with 1 Axes>"
      ]
     },
     "metadata": {
      "needs_background": "light"
     },
     "output_type": "display_data"
    }
   ],
   "source": [
    "# #checking quality of data...\n",
    "# data = xr.open_mfdataset(\"/glade/scratch/kwheelan/temp/preds/finalPreds_lin_tmax_38.125_-101.875.nc\")\n",
    "# lin = data\n",
    "# lin['time']= lin.month\n",
    "\n",
    "# linAvgs = [float(lin.sel(time = m).mean(dim = 'time').preds) for m in range(1,13)]\n",
    "\n",
    "# monthsAbrev = ['Jan','Feb', 'Mar','Apr','May','Jun','Jul','Aug','Sep','Oct','Nov','Dec']\n",
    "\n",
    "\n",
    "# plt.title(\"Mean Monthly Max Temperature for Modeled Data\")\n",
    "# plt.ylabel('Temperature (Celcius)')\n",
    "# plt.xlabel('Month')\n",
    "# plt.plot(monthsAbrev, linAvgs, '-r', label = \"handpicked\")\n",
    "# plt.legend()\n",
    "# plt.show()\n"
   ]
  },
  {
   "cell_type": "code",
   "execution_count": null,
   "metadata": {},
   "outputs": [],
   "source": []
  }
 ],
 "metadata": {
  "kernelspec": {
   "display_name": "Python 3",
   "language": "python",
   "name": "python3"
  },
  "language_info": {
   "codemirror_mode": {
    "name": "ipython",
    "version": 3
   },
   "file_extension": ".py",
   "mimetype": "text/x-python",
   "name": "python",
   "nbconvert_exporter": "python",
   "pygments_lexer": "ipython3",
   "version": "3.7.5"
  }
 },
 "nbformat": 4,
 "nbformat_minor": 4
}
