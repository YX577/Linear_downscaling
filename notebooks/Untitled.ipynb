{
 "cells": [
  {
   "cell_type": "markdown",
   "metadata": {},
   "source": [
    "# Using Betas to Predict given input\n",
    "\n",
    "Katrina Wheelan, Updated 6.2.20"
   ]
  },
  {
   "cell_type": "markdown",
   "metadata": {},
   "source": [
    "## Import Data"
   ]
  },
  {
   "cell_type": "code",
   "execution_count": null,
   "metadata": {},
   "outputs": [],
   "source": []
  },
  {
   "cell_type": "markdown",
   "metadata": {},
   "source": [
    "## Import Betas"
   ]
  },
  {
   "cell_type": "code",
   "execution_count": null,
   "metadata": {},
   "outputs": [],
   "source": []
  },
  {
   "cell_type": "markdown",
   "metadata": {},
   "source": [
    "## Make predictions"
   ]
  },
  {
   "cell_type": "code",
   "execution_count": null,
   "metadata": {},
   "outputs": [],
   "source": [
    "def knit_data(x_all, betas):\n",
    "    for month in range(1,13):\n",
    "        X_month = X_all_cp.sel(time=month)\n",
    "        X_month[\"preds\"] = X_month['time'] + X_month['lat']\n",
    "        X_month[\"preds\"]= ({'time' : 'time'}, pd.DataFrame(np.matmul(x_all[month-1], betas[monthsFull[month-1]])).values[0])\n",
    "        X_month['time'] = X_month['time-copy']\n",
    "        if month == 1:\n",
    "            X_preds = 0\n",
    "            X_preds = X_month\n",
    "        else:\n",
    "            X_preds = xr.concat([X_preds, X_month], dim = \"time\")\n",
    "\n",
    "    return X_preds.sortby('time')"
   ]
  }
 ],
 "metadata": {
  "kernelspec": {
   "display_name": "Python 3",
   "language": "python",
   "name": "python3"
  },
  "language_info": {
   "codemirror_mode": {
    "name": "ipython",
    "version": 3
   },
   "file_extension": ".py",
   "mimetype": "text/x-python",
   "name": "python",
   "nbconvert_exporter": "python",
   "pygments_lexer": "ipython3",
   "version": "3.7.5"
  }
 },
 "nbformat": 4,
 "nbformat_minor": 4
}
